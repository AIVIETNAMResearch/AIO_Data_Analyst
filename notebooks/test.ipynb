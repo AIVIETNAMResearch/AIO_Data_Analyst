{
 "cells": [
  {
   "cell_type": "code",
   "execution_count": 1,
   "metadata": {},
   "outputs": [
    {
     "name": "stdout",
     "output_type": "stream",
     "text": [
      "Collecting pandasai\n",
      "  Downloading pandasai-2.1.1-py3-none-any.whl.metadata (9.7 kB)\n",
      "Collecting astor<0.9.0,>=0.8.1 (from pandasai)\n",
      "  Downloading astor-0.8.1-py2.py3-none-any.whl.metadata (4.2 kB)\n",
      "Collecting duckdb<1 (from pandasai)\n",
      "  Downloading duckdb-0.10.3-cp312-cp312-manylinux_2_17_x86_64.manylinux2014_x86_64.whl.metadata (763 bytes)\n",
      "Collecting faker<20.0.0,>=19.12.0 (from pandasai)\n",
      "  Downloading Faker-19.13.0-py3-none-any.whl.metadata (15 kB)\n",
      "Requirement already satisfied: jinja2<4.0.0,>=3.1.3 in /home/bachngo/anaconda3/envs/gemm_assistant/lib/python3.12/site-packages (from pandasai) (3.1.3)\n",
      "Requirement already satisfied: matplotlib<4.0.0,>=3.7.1 in /home/bachngo/anaconda3/envs/gemm_assistant/lib/python3.12/site-packages (from pandasai) (3.8.4)\n",
      "Requirement already satisfied: openai<2 in /home/bachngo/anaconda3/envs/gemm_assistant/lib/python3.12/site-packages (from pandasai) (1.30.1)\n",
      "Collecting pandas==1.5.3 (from pandasai)\n",
      "  Downloading pandas-1.5.3.tar.gz (5.2 MB)\n",
      "\u001b[2K     \u001b[38;2;114;156;31m━━━━━━━━━━━━━━━━━━━━━━━━━━━━━━━━━━━━━━━━\u001b[0m \u001b[32m5.2/5.2 MB\u001b[0m \u001b[31m14.4 MB/s\u001b[0m eta \u001b[36m0:00:00\u001b[0mm eta \u001b[36m0:00:01\u001b[0m[36m0:00:01\u001b[0m\n",
      "\u001b[?25h  Installing build dependencies ... \u001b[?25ldone\n",
      "\u001b[?25h  Getting requirements to build wheel ... \u001b[?25ldone\n",
      "\u001b[?25h  Preparing metadata (pyproject.toml) ... \u001b[?25ldone\n",
      "\u001b[?25hRequirement already satisfied: pillow<11.0.0,>=10.1.0 in /home/bachngo/anaconda3/envs/gemm_assistant/lib/python3.12/site-packages (from pandasai) (10.3.0)\n",
      "Requirement already satisfied: pydantic<3,>=1 in /home/bachngo/anaconda3/envs/gemm_assistant/lib/python3.12/site-packages (from pandasai) (2.7.0)\n",
      "Requirement already satisfied: python-dotenv<2.0.0,>=1.0.0 in /home/bachngo/anaconda3/envs/gemm_assistant/lib/python3.12/site-packages (from pandasai) (1.0.1)\n",
      "Requirement already satisfied: requests<3.0.0,>=2.31.0 in /home/bachngo/anaconda3/envs/gemm_assistant/lib/python3.12/site-packages (from pandasai) (2.31.0)\n",
      "Requirement already satisfied: scipy<2.0.0,>=1.9.0 in /home/bachngo/anaconda3/envs/gemm_assistant/lib/python3.12/site-packages (from pandasai) (1.13.0)\n",
      "Requirement already satisfied: sqlalchemy<3,>=1.4 in /home/bachngo/anaconda3/envs/gemm_assistant/lib/python3.12/site-packages (from pandasai) (2.0.29)\n",
      "Requirement already satisfied: python-dateutil>=2.8.1 in /home/bachngo/anaconda3/envs/gemm_assistant/lib/python3.12/site-packages (from pandas==1.5.3->pandasai) (2.9.0.post0)\n",
      "Requirement already satisfied: pytz>=2020.1 in /home/bachngo/anaconda3/envs/gemm_assistant/lib/python3.12/site-packages (from pandas==1.5.3->pandasai) (2024.1)\n",
      "Requirement already satisfied: numpy>=1.21.0 in /home/bachngo/anaconda3/envs/gemm_assistant/lib/python3.12/site-packages (from pandas==1.5.3->pandasai) (1.26.4)\n",
      "Requirement already satisfied: MarkupSafe>=2.0 in /home/bachngo/anaconda3/envs/gemm_assistant/lib/python3.12/site-packages (from jinja2<4.0.0,>=3.1.3->pandasai) (2.1.5)\n",
      "Requirement already satisfied: contourpy>=1.0.1 in /home/bachngo/anaconda3/envs/gemm_assistant/lib/python3.12/site-packages (from matplotlib<4.0.0,>=3.7.1->pandasai) (1.2.1)\n",
      "Requirement already satisfied: cycler>=0.10 in /home/bachngo/anaconda3/envs/gemm_assistant/lib/python3.12/site-packages (from matplotlib<4.0.0,>=3.7.1->pandasai) (0.12.1)\n",
      "Requirement already satisfied: fonttools>=4.22.0 in /home/bachngo/anaconda3/envs/gemm_assistant/lib/python3.12/site-packages (from matplotlib<4.0.0,>=3.7.1->pandasai) (4.51.0)\n",
      "Requirement already satisfied: kiwisolver>=1.3.1 in /home/bachngo/anaconda3/envs/gemm_assistant/lib/python3.12/site-packages (from matplotlib<4.0.0,>=3.7.1->pandasai) (1.4.5)\n",
      "Requirement already satisfied: packaging>=20.0 in /home/bachngo/anaconda3/envs/gemm_assistant/lib/python3.12/site-packages (from matplotlib<4.0.0,>=3.7.1->pandasai) (23.2)\n",
      "Requirement already satisfied: pyparsing>=2.3.1 in /home/bachngo/anaconda3/envs/gemm_assistant/lib/python3.12/site-packages (from matplotlib<4.0.0,>=3.7.1->pandasai) (3.1.2)\n",
      "Requirement already satisfied: anyio<5,>=3.5.0 in /home/bachngo/anaconda3/envs/gemm_assistant/lib/python3.12/site-packages (from openai<2->pandasai) (3.7.1)\n",
      "Requirement already satisfied: distro<2,>=1.7.0 in /home/bachngo/anaconda3/envs/gemm_assistant/lib/python3.12/site-packages (from openai<2->pandasai) (1.9.0)\n",
      "Requirement already satisfied: httpx<1,>=0.23.0 in /home/bachngo/anaconda3/envs/gemm_assistant/lib/python3.12/site-packages (from openai<2->pandasai) (0.27.0)\n",
      "Requirement already satisfied: sniffio in /home/bachngo/anaconda3/envs/gemm_assistant/lib/python3.12/site-packages (from openai<2->pandasai) (1.3.1)\n",
      "Requirement already satisfied: tqdm>4 in /home/bachngo/anaconda3/envs/gemm_assistant/lib/python3.12/site-packages (from openai<2->pandasai) (4.66.2)\n",
      "Requirement already satisfied: typing-extensions<5,>=4.7 in /home/bachngo/anaconda3/envs/gemm_assistant/lib/python3.12/site-packages (from openai<2->pandasai) (4.11.0)\n",
      "Requirement already satisfied: annotated-types>=0.4.0 in /home/bachngo/anaconda3/envs/gemm_assistant/lib/python3.12/site-packages (from pydantic<3,>=1->pandasai) (0.6.0)\n",
      "Requirement already satisfied: pydantic-core==2.18.1 in /home/bachngo/anaconda3/envs/gemm_assistant/lib/python3.12/site-packages (from pydantic<3,>=1->pandasai) (2.18.1)\n",
      "Requirement already satisfied: charset-normalizer<4,>=2 in /home/bachngo/anaconda3/envs/gemm_assistant/lib/python3.12/site-packages (from requests<3.0.0,>=2.31.0->pandasai) (3.3.2)\n",
      "Requirement already satisfied: idna<4,>=2.5 in /home/bachngo/anaconda3/envs/gemm_assistant/lib/python3.12/site-packages (from requests<3.0.0,>=2.31.0->pandasai) (3.7)\n",
      "Requirement already satisfied: urllib3<3,>=1.21.1 in /home/bachngo/anaconda3/envs/gemm_assistant/lib/python3.12/site-packages (from requests<3.0.0,>=2.31.0->pandasai) (2.2.1)\n",
      "Requirement already satisfied: certifi>=2017.4.17 in /home/bachngo/anaconda3/envs/gemm_assistant/lib/python3.12/site-packages (from requests<3.0.0,>=2.31.0->pandasai) (2024.2.2)\n",
      "Requirement already satisfied: greenlet!=0.4.17 in /home/bachngo/anaconda3/envs/gemm_assistant/lib/python3.12/site-packages (from sqlalchemy<3,>=1.4->pandasai) (3.0.3)\n",
      "Requirement already satisfied: httpcore==1.* in /home/bachngo/anaconda3/envs/gemm_assistant/lib/python3.12/site-packages (from httpx<1,>=0.23.0->openai<2->pandasai) (1.0.5)\n",
      "Requirement already satisfied: h11<0.15,>=0.13 in /home/bachngo/anaconda3/envs/gemm_assistant/lib/python3.12/site-packages (from httpcore==1.*->httpx<1,>=0.23.0->openai<2->pandasai) (0.14.0)\n",
      "Requirement already satisfied: six>=1.5 in /home/bachngo/anaconda3/envs/gemm_assistant/lib/python3.12/site-packages (from python-dateutil>=2.8.1->pandas==1.5.3->pandasai) (1.16.0)\n",
      "Downloading pandasai-2.1.1-py3-none-any.whl (163 kB)\n",
      "\u001b[2K   \u001b[38;2;114;156;31m━━━━━━━━━━━━━━━━━━━━━━━━━━━━━━━━━━━━━━━━\u001b[0m \u001b[32m163.9/163.9 kB\u001b[0m \u001b[31m35.3 MB/s\u001b[0m eta \u001b[36m0:00:00\u001b[0m\n",
      "\u001b[?25hDownloading astor-0.8.1-py2.py3-none-any.whl (27 kB)\n",
      "Downloading duckdb-0.10.3-cp312-cp312-manylinux_2_17_x86_64.manylinux2014_x86_64.whl (18.5 MB)\n",
      "\u001b[2K   \u001b[38;2;114;156;31m━━━━━━━━━━━━━━━━━━━━━━━━━━━━━━━━━━━━━━━━\u001b[0m \u001b[32m18.5/18.5 MB\u001b[0m \u001b[31m13.5 MB/s\u001b[0m eta \u001b[36m0:00:00\u001b[0mm eta \u001b[36m0:00:01\u001b[0m[36m0:00:01\u001b[0m\n",
      "\u001b[?25hDownloading Faker-19.13.0-py3-none-any.whl (1.7 MB)\n",
      "\u001b[2K   \u001b[38;2;114;156;31m━━━━━━━━━━━━━━━━━━━━━━━━━━━━━━━━━━━━━━━━\u001b[0m \u001b[32m1.7/1.7 MB\u001b[0m \u001b[31m11.6 MB/s\u001b[0m eta \u001b[36m0:00:00\u001b[0mm eta \u001b[36m0:00:01\u001b[0m0:01\u001b[0m:01\u001b[0m\n",
      "\u001b[?25hBuilding wheels for collected packages: pandas\n",
      "  Building wheel for pandas (pyproject.toml) ... \u001b[?25ldone\n",
      "\u001b[?25h  Created wheel for pandas: filename=pandas-1.5.3-cp312-cp312-linux_x86_64.whl size=11477855 sha256=153c0d06333cf1978b3e803964a99fab454ad77304db7c4767ddb1c6fa333073\n",
      "  Stored in directory: /home/bachngo/.cache/pip/wheels/fb/83/18/8e7307aa1185c5498c5490e4d9c8a1732d9f1056e86c3491c6\n",
      "Successfully built pandas\n",
      "Installing collected packages: duckdb, astor, pandas, faker, pandasai\n",
      "  Attempting uninstall: pandas\n",
      "    Found existing installation: pandas 2.2.2\n",
      "    Uninstalling pandas-2.2.2:\n",
      "      Successfully uninstalled pandas-2.2.2\n",
      "\u001b[31mERROR: pip's dependency resolver does not currently take into account all the packages that are installed. This behaviour is the source of the following dependency conflicts.\n",
      "llama-index-llms-gemini 0.1.7 requires google-generativeai<0.5.0,>=0.4.1, but you have google-generativeai 0.5.3 which is incompatible.\u001b[0m\u001b[31m\n",
      "\u001b[0mSuccessfully installed astor-0.8.1 duckdb-0.10.3 faker-19.13.0 pandas-1.5.3 pandasai-2.1.1\n"
     ]
    }
   ],
   "source": [
    "!pip install pandasai"
   ]
  },
  {
   "cell_type": "code",
   "execution_count": 12,
   "metadata": {},
   "outputs": [
    {
     "name": "stdout",
     "output_type": "stream",
     "text": [
      "zsh:1: no matches found: pandasai[extra-dependency-name]\n"
     ]
    }
   ],
   "source": [
    "!pip install seaborn"
   ]
  },
  {
   "cell_type": "code",
   "execution_count": 1,
   "metadata": {},
   "outputs": [],
   "source": [
    "from pandasai import SmartDataframe\n",
    "from pandasai.llm.local_llm import LocalLLM\n",
    "from pandasai.llm import OpenAI"
   ]
  },
  {
   "cell_type": "code",
   "execution_count": 2,
   "metadata": {},
   "outputs": [],
   "source": [
    "# llm = LocalLLM(\n",
    "#     api_base=\"https://api.groq.com/openai/v1\",\n",
    "#     model=\"llama3-8b-8192\"\n",
    "# )\n",
    "\n",
    "llm = OpenAI(\n",
    "    api_token=\"\",\n",
    ")"
   ]
  },
  {
   "cell_type": "code",
   "execution_count": 3,
   "metadata": {},
   "outputs": [],
   "source": [
    "import pandas as pd\n",
    "from pandasai import Agent\n",
    "\n",
    "df = pd.read_csv(\"./data/train.csv\")\n",
    "agent = Agent(df, config={\"llm\": llm})"
   ]
  },
  {
   "cell_type": "code",
   "execution_count": 7,
   "metadata": {},
   "outputs": [
    {
     "name": "stdout",
     "output_type": "stream",
     "text": [
      "The feature with the highest correlation with 'Microwave' is 'Gymnasium'.\n"
     ]
    },
    {
     "name": "stderr",
     "output_type": "stream",
     "text": [
      "<string>:3: FutureWarning: The default value of numeric_only in DataFrame.corr is deprecated. In a future version, it will default to False. Select only valid columns or specify the value of numeric_only to silence this warning.\n"
     ]
    }
   ],
   "source": [
    "print(agent.chat(\"What is the feature with highest correlation in this data\"))"
   ]
  },
  {
   "cell_type": "code",
   "execution_count": null,
   "metadata": {},
   "outputs": [],
   "source": []
  },
  {
   "cell_type": "markdown",
   "metadata": {},
   "source": [
    "# Llama_index approach"
   ]
  },
  {
   "cell_type": "markdown",
   "metadata": {},
   "source": []
  },
  {
   "cell_type": "code",
   "execution_count": 17,
   "metadata": {},
   "outputs": [],
   "source": [
    "import pandas as pd\n",
    "from llama_index.experimental.query_engine import PandasQueryEngine\n",
    "from llama_index.llms.groq import Groq\n",
    "\n",
    "\n",
    "llm = Groq(model=\"llama3-70b-8192\")\n",
    "\n",
    "data_df = pd.read_csv(\"../data/train.csv\")\n",
    "query_engine = PandasQueryEngine(df=data_df, verbose=True, llm=llm)"
   ]
  },
  {
   "cell_type": "code",
   "execution_count": 36,
   "metadata": {},
   "outputs": [],
   "source": [
    "# response = query_engine.query(\"Draw the data correlation matrix\")"
   ]
  },
  {
   "cell_type": "code",
   "execution_count": 30,
   "metadata": {},
   "outputs": [
    {
     "name": "stdout",
     "output_type": "stream",
     "text": [
      "There was an error running the output as Python code. Error message: could not convert string to float: 'Hooghly Chinsurah'\n"
     ]
    }
   ],
   "source": [
    "print(response.response)"
   ]
  },
  {
   "cell_type": "code",
   "execution_count": 31,
   "metadata": {},
   "outputs": [],
   "source": [
    "from llama_index.core.tools import QueryEngineTool, ToolMetadata\n",
    "\n",
    "tools = [\n",
    "    QueryEngineTool(\n",
    "        query_engine=query_engine,\n",
    "        metadata=ToolMetadata(\n",
    "            name=\"pandas_engine\",\n",
    "            description=(\n",
    "                \"Provides pandas code and execution on the data frame based on the query. \"\n",
    "            ),\n",
    "        ),)\n",
    "]"
   ]
  },
  {
   "cell_type": "code",
   "execution_count": 35,
   "metadata": {},
   "outputs": [],
   "source": [
    "# # setup pack arguments\n",
    "# from llama_index.core.agent import AgentRunner\n",
    "# from llama_index.agent.llm_compiler.step import LLMCompilerAgentWorker\n",
    "\n",
    "# agent_worker = LLMCompilerAgentWorker.from_tools(\n",
    "#     tools, llm=llm, verbose=True\n",
    "# )\n",
    "# agent = AgentRunner(agent_worker)\n",
    "\n",
    "# # start using the agent\n",
    "# response = agent.chat(\"Perform analytics on the data frame\")"
   ]
  },
  {
   "cell_type": "code",
   "execution_count": 48,
   "metadata": {},
   "outputs": [],
   "source": [
    "from typing import Any, Dict, Optional, List\n",
    "import re\n",
    "\n",
    "def parse_code_markdown(text: str, only_last: bool) -> List[str]:\n",
    "    # Regular expression pattern to match code within triple-backticks with an optional programming language\n",
    "    pattern = r\"```[a-zA-Z]*\\n(.*?)```\"\n",
    "\n",
    "    # Find all matches of the pattern in the text\n",
    "    matches = re.findall(pattern, text, re.DOTALL)\n",
    "\n",
    "    # Return the last matched group if requested\n",
    "    code = matches[-1] if matches and only_last else matches\n",
    "\n",
    "    # If empty, we optimistically assume the output is the code\n",
    "    if not code:\n",
    "        # Strip the text to handle cases where the code may start or end with triple backticks or quotes\n",
    "        candidate = text.strip()\n",
    "\n",
    "        # Handle cases where the code is surrounded by regular quotes\n",
    "        if candidate.startswith('\"') and candidate.endswith('\"'):\n",
    "            candidate = candidate[1:-1]\n",
    "\n",
    "        if candidate.startswith(\"'\") and candidate.endswith(\"'\"):\n",
    "            candidate = candidate[1:-1]\n",
    "\n",
    "        if candidate.startswith(\"`\") and candidate.endswith(\"`\"):\n",
    "            candidate = candidate[1:-1]\n",
    "\n",
    "        # Handle triple backticks at the start\n",
    "        if candidate.startswith(\"```\"):\n",
    "            candidate = re.sub(r\"^```[a-zA-Z]*\\n?\", \"\", candidate)\n",
    "\n",
    "        # Handle triple backticks at the end\n",
    "        if candidate.endswith(\"```\"):\n",
    "            candidate = candidate[:-3]\n",
    "\n",
    "        code = [candidate.strip()]\n",
    "\n",
    "    return code"
   ]
  },
  {
   "cell_type": "code",
   "execution_count": null,
   "metadata": {},
   "outputs": [],
   "source": []
  },
  {
   "cell_type": "code",
   "execution_count": 53,
   "metadata": {},
   "outputs": [
    {
     "data": {
      "text/plain": [
       "\"df.describe(include='all').to_string() + '\\n' + df.info() + '\\n' + 'Correlation Matrix:\\n' + df.corr().to_string() + '\\n' + 'Missing Values:\\n' + df.isnull().sum().to_string() + '\\n' + 'Value Counts:\\n' + df.apply(pd.value_counts).to_string()\\n\""
      ]
     },
     "execution_count": 53,
     "metadata": {},
     "output_type": "execute_result"
    }
   ],
   "source": [
    "# Example usage\n",
    "text = \"\"\"```python\n",
    "df.describe(include='all').to_string() + '\\n' + df.info() + '\\n' + 'Correlation Matrix:\\n' + df.corr().to_string() + '\\n' + 'Missing Values:\\n' + df.isnull().sum().to_string() + '\\n' + 'Value Counts:\\n' + df.apply(pd.value_counts).to_string()\n",
    "```\"\"\"\n",
    "\n",
    "parse_code_markdown(text, only_last=True)"
   ]
  },
  {
   "cell_type": "code",
   "execution_count": 50,
   "metadata": {},
   "outputs": [
    {
     "data": {
      "text/plain": [
       "\"      id  Area           Location  No. of Bedrooms  Resale  MaintenanceStaff  Gymnasium  SwimmingPool  LandscapedGardens  JoggingTrack  RainWaterHarvesting  IndoorGames  ShoppingMall  Intercom  SportsFacility  ATM  ClubHouse  School  24X7Security  PowerBackup  CarParking  StaffQuarter  Cafeteria  MultipurposeRoom  Hospital  WashingMachine  Gasconnection  AC  Wifi  Children'splayarea  LiftAvailable  BED  VaastuCompliant  Microwave  GolfCourse  TV  DiningTable  Sofa  Wardrobe  Refrigerator     Price\\n0  26813   964  Hooghly Chinsurah                3       0                 9          9             9                  9             9                    9            9             9         9               9    9          9       9             9            9           9             9          9                 9         9               9              9   9     9                   9              9    9                9          9           9   9            9     9         9             9   7500000\\n1  10365  1075         Virar West                2       1                 1          1             0                  0             0                    0            0             0         0               0    0          0       0             1            0           1             0          0                 0         0               0              0   0     0                   0              1    1                0          0           0   0            0     0         0             0   6200000\\n2  17863  2092          Manikonda                3       0                 1          1             1                  1             0                    1            1             0         0               0    0          0       0             1            1           1             0          0                 1         0               0              0   0     0                   1              1    0                1          0           0   0            0     0         0             0  10400000\\n3  24337  1174        Devanahalli                2       1                 9          9             9                  9             9                    9            9             9         9               9    9          9       9             9            9           9             9          9                 9         9               9              9   9     9                   9              9    9                9          9           9   9            9     9         9             9  18600000\\n4  12590  1380           Kharghar                2       1                 9          9             9                  9             9                    9            9             9         9               9    9          9       9             9            9           9             9          9                 9         9               9              9   9     9                   9              9    9                9          9           9   9            9     9         9             9   9500000\""
      ]
     },
     "execution_count": 50,
     "metadata": {},
     "output_type": "execute_result"
    }
   ],
   "source": [
    "df = data_df\n",
    "df.head().to_string()\n"
   ]
  },
  {
   "cell_type": "code",
   "execution_count": 59,
   "metadata": {},
   "outputs": [
    {
     "name": "stdout",
     "output_type": "stream",
     "text": [
      "No result variable defined\n",
      "No plot generated\n"
     ]
    }
   ],
   "source": [
    "def default_output_processor(output: str, df: pd.DataFrame, timeout: int = 10, **output_kwargs: Any) -> str:\n",
    "    \"\"\"Process outputs in a default manner with a timeout.\"\"\"\n",
    "    if sys.version_info < (3, 9):\n",
    "        logger.warning(\n",
    "            \"Python version must be >= 3.9 in order to use \"\n",
    "            \"the default output processor, which executes \"\n",
    "            \"the Python query. Instead, we will return the \"\n",
    "            \"raw Python instructions as a string.\"\n",
    "        )\n",
    "        return output\n",
    "\n",
    "    local_vars = {\"df\": df, \"sns\": sns, \"plt\": plt, \"np\": np, \"pd\": pd}\n",
    "    global_vars = globals()  # Access global variables\n",
    "\n",
    "    output = parse_code_markdown(output, only_last=True)\n",
    "\n",
    "    try:\n",
    "        signal.signal(signal.SIGALRM, timeout_handler)\n",
    "        signal.alarm(timeout)\n",
    "        \n",
    "        tree = ast.parse(output)\n",
    "        module = ast.Module(tree.body[:-1], type_ignores=[])\n",
    "        exec(ast.unparse(module), global_vars, local_vars)  # type: ignore\n",
    "        module_end = ast.Module(tree.body[-1:], type_ignores=[])\n",
    "        module_end_str = ast.unparse(module_end)  # type: ignore\n",
    "        \n",
    "        if module_end_str.strip(\"'\\\"\") != module_end_str:\n",
    "            # if there's leading/trailing quotes, then we need to eval\n",
    "            # string to get the actual expression\n",
    "            module_end_str = eval(module_end_str, global_vars, local_vars)\n",
    "        \n",
    "        try:\n",
    "            # str(pd.dataframe) will truncate output by display.max_colwidth\n",
    "            # set width temporarily to extract more text\n",
    "            output_str = str(eval(module_end_str, global_vars, local_vars))\n",
    "            \n",
    "            if show_plot() == Status.SHOW_PLOT_SUCCESS:\n",
    "                return \"Plot displayed successfully to the user!\"\n",
    "            \n",
    "            return output_str\n",
    "\n",
    "        except Exception:\n",
    "            raise\n",
    "    except TimeoutException:\n",
    "        return \"The execution timed out. Please try again with optimized code or increase the timeout limit.\"\n",
    "    except Exception as e:\n",
    "        err_string = (\n",
    "            \"There was an error running the output as Python code. \"\n",
    "            f\"Error message: {e}\"\n",
    "        )\n",
    "        traceback.print_exc()\n",
    "        return err_string\n",
    "    finally:\n",
    "        signal.alarm(0)  # Disable the alarm"
   ]
  },
  {
   "cell_type": "code",
   "execution_count": 2,
   "metadata": {},
   "outputs": [],
   "source": [
    "import re\n",
    "import io\n",
    "import logging\n",
    "import signal\n",
    "import sys\n",
    "import ast\n",
    "import re\n",
    "import traceback\n",
    "\n",
    "import numpy as np\n",
    "import pandas as pd\n",
    "import seaborn as sns\n",
    "import matplotlib.pyplot as plt\n",
    "from enum import Enum\n",
    "from typing import Any, Dict, Optional, List\n",
    "\n",
    "\n",
    "logger = logging.getLogger(__name__)\n",
    "\n",
    "class TimeoutException(Exception):\n",
    "    pass\n",
    "\n",
    "\n",
    "class Status(Enum):\n",
    "    NO_PLOT = \"No plot\"\n",
    "    SHOW_PLOT_SUCCESS = \"Show plot successfully!\"\n",
    "    SHOW_PLOT_FAILED = \"Show plot failed!\"\n",
    "    \n",
    "def parse_code_markdown(text: str, only_last: bool) -> List[str]:\n",
    "    # Regular expression pattern to match code within triple-backticks with an optional programming language\n",
    "    pattern = r\"```[a-zA-Z]*\\n(.*?)```\"\n",
    "\n",
    "    # Find all matches of the pattern in the text\n",
    "    matches = re.findall(pattern, text, re.DOTALL)\n",
    "\n",
    "    # Return the last matched group if requested\n",
    "    code = matches[-1] if matches and only_last else matches\n",
    "\n",
    "    # If empty, we optimistically assume the output is the code\n",
    "    if not code:\n",
    "        # Strip the text to handle cases where the code may start or end with triple backticks or quotes\n",
    "        candidate = text.strip()\n",
    "\n",
    "        # Handle cases where the code is surrounded by regular quotes\n",
    "        if candidate.startswith('\"') and candidate.endswith('\"'):\n",
    "            candidate = candidate[1:-1]\n",
    "\n",
    "        if candidate.startswith(\"'\") and candidate.endswith(\"'\"):\n",
    "            candidate = candidate[1:-1]\n",
    "\n",
    "        if candidate.startswith(\"`\") and candidate.endswith(\"`\"):\n",
    "            candidate = candidate[1:-1]\n",
    "\n",
    "        # Handle triple backticks at the start\n",
    "        if candidate.startswith(\"```\"):\n",
    "            candidate = re.sub(r\"^```[a-zA-Z]*\\n?\", \"\", candidate)\n",
    "\n",
    "        # Handle triple backticks at the end\n",
    "        if candidate.endswith(\"```\"):\n",
    "            candidate = candidate[:-3]\n",
    "\n",
    "        code = candidate.strip()\n",
    "\n",
    "    return code\n",
    "\n",
    "# def show_plot() -> str:\n",
    "#     try:\n",
    "#         # Ensure there's a plot to display\n",
    "#         if not plt.get_fignums():\n",
    "#             return Status.NO_PLOT\n",
    "        \n",
    "#         # Create an in-memory bytes buffer for the plot image\n",
    "#         buffer = io.BytesIO()\n",
    "#         plt.savefig(buffer, format='png')\n",
    "#         buffer.seek(0)\n",
    "        \n",
    "#         # Clear the plot\n",
    "#         plt.close()\n",
    "        \n",
    "#         # Display the plot image\n",
    "#         image = cl.Image(\n",
    "#             name=\"plot\", \n",
    "#             size=\"large\", \n",
    "#             display=\"inline\", \n",
    "#             content=buffer.getvalue())\n",
    "#         run_sync(cl.Message(\n",
    "#             content=\"\",\n",
    "#             elements=[image]\n",
    "#         ).send())\n",
    "        \n",
    "#         return Status.SHOW_PLOT_SUCCESS\n",
    "#     except Exception as e:\n",
    "#         return Status.SHOW_PLOT_FAILED\n",
    "\n",
    "\n",
    "def timeout_handler(signum, frame):\n",
    "    raise TimeoutException(\"Timed out!\")\n",
    "\n",
    "def default_output_processor(output: str, df: pd.DataFrame, timeout: int = 10, **output_kwargs: Any) -> str:\n",
    "    \"\"\"Process outputs in a default manner with a timeout.\"\"\"\n",
    "    if sys.version_info < (3, 9):\n",
    "        logger.warning(\n",
    "            \"Python version must be >= 3.9 in order to use \"\n",
    "            \"the default output processor, which executes \"\n",
    "            \"the Python query. Instead, we will return the \"\n",
    "            \"raw Python instructions as a string.\"\n",
    "        )\n",
    "        return output\n",
    "\n",
    "    local_vars = {\"df\": df, \"sns\": sns, \"plt\": plt, \"np\": np, \"pd\": pd}\n",
    "    global_vars = {}\n",
    "\n",
    "    output = parse_code_markdown(output, only_last=True)\n",
    "\n",
    "    try:\n",
    "        signal.signal(signal.SIGALRM, timeout_handler)\n",
    "        signal.alarm(timeout)\n",
    "        \n",
    "        tree = ast.parse(output)\n",
    "        module = ast.Module(tree.body[:-1], type_ignores=[])\n",
    "        exec(ast.unparse(module), {}, local_vars)  # type: ignore\n",
    "        module_end = ast.Module(tree.body[-1:], type_ignores=[])\n",
    "        module_end_str = ast.unparse(module_end)  # type: ignore\n",
    "        \n",
    "        if module_end_str.strip(\"'\\\"\") != module_end_str:\n",
    "            # if there's leading/trailing quotes, then we need to eval\n",
    "            # string to get the actual expression\n",
    "            module_end_str = eval(module_end_str, global_vars, local_vars)\n",
    "        \n",
    "        try:\n",
    "            # str(pd.dataframe) will truncate output by display.max_colwidth\n",
    "            # set width temporarily to extract more text\n",
    "            output_str = str(eval(module_end_str, global_vars, local_vars))\n",
    "            \n",
    "            # if show_plot() == Status.SHOW_PLOT_SUCCESS:\n",
    "            #     return \"Plot displayed successfully to the user!\"\n",
    "            \n",
    "            return output_str\n",
    "\n",
    "        except Exception:\n",
    "            raise\n",
    "    except TimeoutException:\n",
    "        return \"The execution timed out. Please try again with optimized code or increase the timeout limit.\"\n",
    "    except Exception as e:\n",
    "        err_string = (\n",
    "            \"There was an error running the output as Python code. \"\n",
    "            f\"Error message: {e}\"\n",
    "        )\n",
    "        traceback.print_exc()\n",
    "        return err_string\n",
    "    finally:\n",
    "        signal.alarm(0)  # Disable the alarm"
   ]
  },
  {
   "cell_type": "code",
   "execution_count": 3,
   "metadata": {},
   "outputs": [
    {
     "name": "stdout",
     "output_type": "stream",
     "text": [
      "<class 'pandas.core.frame.DataFrame'>\n",
      "RangeIndex: 26370 entries, 0 to 26369\n",
      "Data columns (total 41 columns):\n",
      " #   Column               Non-Null Count  Dtype \n",
      "---  ------               --------------  ----- \n",
      " 0   id                   26370 non-null  int64 \n",
      " 1   Area                 26370 non-null  int64 \n",
      " 2   Location             26370 non-null  object\n",
      " 3   No. of Bedrooms      26370 non-null  int64 \n",
      " 4   Resale               26370 non-null  int64 \n",
      " 5   MaintenanceStaff     26370 non-null  int64 \n",
      " 6   Gymnasium            26370 non-null  int64 \n",
      " 7   SwimmingPool         26370 non-null  int64 \n",
      " 8   LandscapedGardens    26370 non-null  int64 \n",
      " 9   JoggingTrack         26370 non-null  int64 \n",
      " 10  RainWaterHarvesting  26370 non-null  int64 \n",
      " 11  IndoorGames          26370 non-null  int64 \n",
      " 12  ShoppingMall         26370 non-null  int64 \n",
      " 13  Intercom             26370 non-null  int64 \n",
      " 14  SportsFacility       26370 non-null  int64 \n",
      " 15  ATM                  26370 non-null  int64 \n",
      " 16  ClubHouse            26370 non-null  int64 \n",
      " 17  School               26370 non-null  int64 \n",
      " 18  24X7Security         26370 non-null  int64 \n",
      " 19  PowerBackup          26370 non-null  int64 \n",
      " 20  CarParking           26370 non-null  int64 \n",
      " 21  StaffQuarter         26370 non-null  int64 \n",
      " 22  Cafeteria            26370 non-null  int64 \n",
      " 23  MultipurposeRoom     26370 non-null  int64 \n",
      " 24  Hospital             26370 non-null  int64 \n",
      " 25  WashingMachine       26370 non-null  int64 \n",
      " 26  Gasconnection        26370 non-null  int64 \n",
      " 27  AC                   26370 non-null  int64 \n",
      " 28  Wifi                 26370 non-null  int64 \n",
      " 29  Children'splayarea   26370 non-null  int64 \n",
      " 30  LiftAvailable        26370 non-null  int64 \n",
      " 31  BED                  26370 non-null  int64 \n",
      " 32  VaastuCompliant      26370 non-null  int64 \n",
      " 33  Microwave            26370 non-null  int64 \n",
      " 34  GolfCourse           26370 non-null  int64 \n",
      " 35  TV                   26370 non-null  int64 \n",
      " 36  DiningTable          26370 non-null  int64 \n",
      " 37  Sofa                 26370 non-null  int64 \n",
      " 38  Wardrobe             26370 non-null  int64 \n",
      " 39  Refrigerator         26370 non-null  int64 \n",
      " 40  Price                26370 non-null  int64 \n",
      "dtypes: int64(40), object(1)\n",
      "memory usage: 8.2+ MB\n"
     ]
    },
    {
     "name": "stderr",
     "output_type": "stream",
     "text": [
      "Traceback (most recent call last):\n",
      "  File \"/tmp/ipykernel_51311/824892047.py\", line 133, in default_output_processor\n",
      "    output_str = str(eval(module_end_str, global_vars, local_vars))\n",
      "                     ^^^^^^^^^^^^^^^^^^^^^^^^^^^^^^^^^^^^^^^^^^^^^\n",
      "  File \"<string>\", line 1, in <module>\n",
      "TypeError: can only concatenate str (not \"NoneType\") to str\n"
     ]
    },
    {
     "data": {
      "text/plain": [
       "'There was an error running the output as Python code. Error message: can only concatenate str (not \"NoneType\") to str'"
      ]
     },
     "execution_count": 3,
     "metadata": {},
     "output_type": "execute_result"
    }
   ],
   "source": [
    "df = pd.read_csv(\"../data/train.csv\")\n",
    "\n",
    "sample_output =\"\"\"\n",
    "```python\n",
    "df['C'] = df['A'] + df['B']\n",
    "df\n",
    "```\n",
    "\"\"\"\n",
    "\n",
    "\n",
    "\n",
    "default_output_processor(sample_output, df)"
   ]
  },
  {
   "cell_type": "code",
   "execution_count": null,
   "metadata": {},
   "outputs": [],
   "source": []
  }
 ],
 "metadata": {
  "kernelspec": {
   "display_name": "gemm_assistant",
   "language": "python",
   "name": "python3"
  },
  "language_info": {
   "codemirror_mode": {
    "name": "ipython",
    "version": 3
   },
   "file_extension": ".py",
   "mimetype": "text/x-python",
   "name": "python",
   "nbconvert_exporter": "python",
   "pygments_lexer": "ipython3",
   "version": "3.12.3"
  }
 },
 "nbformat": 4,
 "nbformat_minor": 2
}
