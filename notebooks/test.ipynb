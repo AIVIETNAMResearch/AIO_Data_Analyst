{
 "cells": [
  {
   "cell_type": "code",
   "execution_count": 1,
   "metadata": {},
   "outputs": [
    {
     "name": "stdout",
     "output_type": "stream",
     "text": [
      "Collecting pandasai\n",
      "  Downloading pandasai-2.1.1-py3-none-any.whl.metadata (9.7 kB)\n",
      "Collecting astor<0.9.0,>=0.8.1 (from pandasai)\n",
      "  Downloading astor-0.8.1-py2.py3-none-any.whl.metadata (4.2 kB)\n",
      "Collecting duckdb<1 (from pandasai)\n",
      "  Downloading duckdb-0.10.3-cp312-cp312-manylinux_2_17_x86_64.manylinux2014_x86_64.whl.metadata (763 bytes)\n",
      "Collecting faker<20.0.0,>=19.12.0 (from pandasai)\n",
      "  Downloading Faker-19.13.0-py3-none-any.whl.metadata (15 kB)\n",
      "Requirement already satisfied: jinja2<4.0.0,>=3.1.3 in /home/bachngo/anaconda3/envs/gemm_assistant/lib/python3.12/site-packages (from pandasai) (3.1.3)\n",
      "Requirement already satisfied: matplotlib<4.0.0,>=3.7.1 in /home/bachngo/anaconda3/envs/gemm_assistant/lib/python3.12/site-packages (from pandasai) (3.8.4)\n",
      "Requirement already satisfied: openai<2 in /home/bachngo/anaconda3/envs/gemm_assistant/lib/python3.12/site-packages (from pandasai) (1.30.1)\n",
      "Collecting pandas==1.5.3 (from pandasai)\n",
      "  Downloading pandas-1.5.3.tar.gz (5.2 MB)\n",
      "\u001b[2K     \u001b[38;2;114;156;31m━━━━━━━━━━━━━━━━━━━━━━━━━━━━━━━━━━━━━━━━\u001b[0m \u001b[32m5.2/5.2 MB\u001b[0m \u001b[31m14.4 MB/s\u001b[0m eta \u001b[36m0:00:00\u001b[0mm eta \u001b[36m0:00:01\u001b[0m[36m0:00:01\u001b[0m\n",
      "\u001b[?25h  Installing build dependencies ... \u001b[?25ldone\n",
      "\u001b[?25h  Getting requirements to build wheel ... \u001b[?25ldone\n",
      "\u001b[?25h  Preparing metadata (pyproject.toml) ... \u001b[?25ldone\n",
      "\u001b[?25hRequirement already satisfied: pillow<11.0.0,>=10.1.0 in /home/bachngo/anaconda3/envs/gemm_assistant/lib/python3.12/site-packages (from pandasai) (10.3.0)\n",
      "Requirement already satisfied: pydantic<3,>=1 in /home/bachngo/anaconda3/envs/gemm_assistant/lib/python3.12/site-packages (from pandasai) (2.7.0)\n",
      "Requirement already satisfied: python-dotenv<2.0.0,>=1.0.0 in /home/bachngo/anaconda3/envs/gemm_assistant/lib/python3.12/site-packages (from pandasai) (1.0.1)\n",
      "Requirement already satisfied: requests<3.0.0,>=2.31.0 in /home/bachngo/anaconda3/envs/gemm_assistant/lib/python3.12/site-packages (from pandasai) (2.31.0)\n",
      "Requirement already satisfied: scipy<2.0.0,>=1.9.0 in /home/bachngo/anaconda3/envs/gemm_assistant/lib/python3.12/site-packages (from pandasai) (1.13.0)\n",
      "Requirement already satisfied: sqlalchemy<3,>=1.4 in /home/bachngo/anaconda3/envs/gemm_assistant/lib/python3.12/site-packages (from pandasai) (2.0.29)\n",
      "Requirement already satisfied: python-dateutil>=2.8.1 in /home/bachngo/anaconda3/envs/gemm_assistant/lib/python3.12/site-packages (from pandas==1.5.3->pandasai) (2.9.0.post0)\n",
      "Requirement already satisfied: pytz>=2020.1 in /home/bachngo/anaconda3/envs/gemm_assistant/lib/python3.12/site-packages (from pandas==1.5.3->pandasai) (2024.1)\n",
      "Requirement already satisfied: numpy>=1.21.0 in /home/bachngo/anaconda3/envs/gemm_assistant/lib/python3.12/site-packages (from pandas==1.5.3->pandasai) (1.26.4)\n",
      "Requirement already satisfied: MarkupSafe>=2.0 in /home/bachngo/anaconda3/envs/gemm_assistant/lib/python3.12/site-packages (from jinja2<4.0.0,>=3.1.3->pandasai) (2.1.5)\n",
      "Requirement already satisfied: contourpy>=1.0.1 in /home/bachngo/anaconda3/envs/gemm_assistant/lib/python3.12/site-packages (from matplotlib<4.0.0,>=3.7.1->pandasai) (1.2.1)\n",
      "Requirement already satisfied: cycler>=0.10 in /home/bachngo/anaconda3/envs/gemm_assistant/lib/python3.12/site-packages (from matplotlib<4.0.0,>=3.7.1->pandasai) (0.12.1)\n",
      "Requirement already satisfied: fonttools>=4.22.0 in /home/bachngo/anaconda3/envs/gemm_assistant/lib/python3.12/site-packages (from matplotlib<4.0.0,>=3.7.1->pandasai) (4.51.0)\n",
      "Requirement already satisfied: kiwisolver>=1.3.1 in /home/bachngo/anaconda3/envs/gemm_assistant/lib/python3.12/site-packages (from matplotlib<4.0.0,>=3.7.1->pandasai) (1.4.5)\n",
      "Requirement already satisfied: packaging>=20.0 in /home/bachngo/anaconda3/envs/gemm_assistant/lib/python3.12/site-packages (from matplotlib<4.0.0,>=3.7.1->pandasai) (23.2)\n",
      "Requirement already satisfied: pyparsing>=2.3.1 in /home/bachngo/anaconda3/envs/gemm_assistant/lib/python3.12/site-packages (from matplotlib<4.0.0,>=3.7.1->pandasai) (3.1.2)\n",
      "Requirement already satisfied: anyio<5,>=3.5.0 in /home/bachngo/anaconda3/envs/gemm_assistant/lib/python3.12/site-packages (from openai<2->pandasai) (3.7.1)\n",
      "Requirement already satisfied: distro<2,>=1.7.0 in /home/bachngo/anaconda3/envs/gemm_assistant/lib/python3.12/site-packages (from openai<2->pandasai) (1.9.0)\n",
      "Requirement already satisfied: httpx<1,>=0.23.0 in /home/bachngo/anaconda3/envs/gemm_assistant/lib/python3.12/site-packages (from openai<2->pandasai) (0.27.0)\n",
      "Requirement already satisfied: sniffio in /home/bachngo/anaconda3/envs/gemm_assistant/lib/python3.12/site-packages (from openai<2->pandasai) (1.3.1)\n",
      "Requirement already satisfied: tqdm>4 in /home/bachngo/anaconda3/envs/gemm_assistant/lib/python3.12/site-packages (from openai<2->pandasai) (4.66.2)\n",
      "Requirement already satisfied: typing-extensions<5,>=4.7 in /home/bachngo/anaconda3/envs/gemm_assistant/lib/python3.12/site-packages (from openai<2->pandasai) (4.11.0)\n",
      "Requirement already satisfied: annotated-types>=0.4.0 in /home/bachngo/anaconda3/envs/gemm_assistant/lib/python3.12/site-packages (from pydantic<3,>=1->pandasai) (0.6.0)\n",
      "Requirement already satisfied: pydantic-core==2.18.1 in /home/bachngo/anaconda3/envs/gemm_assistant/lib/python3.12/site-packages (from pydantic<3,>=1->pandasai) (2.18.1)\n",
      "Requirement already satisfied: charset-normalizer<4,>=2 in /home/bachngo/anaconda3/envs/gemm_assistant/lib/python3.12/site-packages (from requests<3.0.0,>=2.31.0->pandasai) (3.3.2)\n",
      "Requirement already satisfied: idna<4,>=2.5 in /home/bachngo/anaconda3/envs/gemm_assistant/lib/python3.12/site-packages (from requests<3.0.0,>=2.31.0->pandasai) (3.7)\n",
      "Requirement already satisfied: urllib3<3,>=1.21.1 in /home/bachngo/anaconda3/envs/gemm_assistant/lib/python3.12/site-packages (from requests<3.0.0,>=2.31.0->pandasai) (2.2.1)\n",
      "Requirement already satisfied: certifi>=2017.4.17 in /home/bachngo/anaconda3/envs/gemm_assistant/lib/python3.12/site-packages (from requests<3.0.0,>=2.31.0->pandasai) (2024.2.2)\n",
      "Requirement already satisfied: greenlet!=0.4.17 in /home/bachngo/anaconda3/envs/gemm_assistant/lib/python3.12/site-packages (from sqlalchemy<3,>=1.4->pandasai) (3.0.3)\n",
      "Requirement already satisfied: httpcore==1.* in /home/bachngo/anaconda3/envs/gemm_assistant/lib/python3.12/site-packages (from httpx<1,>=0.23.0->openai<2->pandasai) (1.0.5)\n",
      "Requirement already satisfied: h11<0.15,>=0.13 in /home/bachngo/anaconda3/envs/gemm_assistant/lib/python3.12/site-packages (from httpcore==1.*->httpx<1,>=0.23.0->openai<2->pandasai) (0.14.0)\n",
      "Requirement already satisfied: six>=1.5 in /home/bachngo/anaconda3/envs/gemm_assistant/lib/python3.12/site-packages (from python-dateutil>=2.8.1->pandas==1.5.3->pandasai) (1.16.0)\n",
      "Downloading pandasai-2.1.1-py3-none-any.whl (163 kB)\n",
      "\u001b[2K   \u001b[38;2;114;156;31m━━━━━━━━━━━━━━━━━━━━━━━━━━━━━━━━━━━━━━━━\u001b[0m \u001b[32m163.9/163.9 kB\u001b[0m \u001b[31m35.3 MB/s\u001b[0m eta \u001b[36m0:00:00\u001b[0m\n",
      "\u001b[?25hDownloading astor-0.8.1-py2.py3-none-any.whl (27 kB)\n",
      "Downloading duckdb-0.10.3-cp312-cp312-manylinux_2_17_x86_64.manylinux2014_x86_64.whl (18.5 MB)\n",
      "\u001b[2K   \u001b[38;2;114;156;31m━━━━━━━━━━━━━━━━━━━━━━━━━━━━━━━━━━━━━━━━\u001b[0m \u001b[32m18.5/18.5 MB\u001b[0m \u001b[31m13.5 MB/s\u001b[0m eta \u001b[36m0:00:00\u001b[0mm eta \u001b[36m0:00:01\u001b[0m[36m0:00:01\u001b[0m\n",
      "\u001b[?25hDownloading Faker-19.13.0-py3-none-any.whl (1.7 MB)\n",
      "\u001b[2K   \u001b[38;2;114;156;31m━━━━━━━━━━━━━━━━━━━━━━━━━━━━━━━━━━━━━━━━\u001b[0m \u001b[32m1.7/1.7 MB\u001b[0m \u001b[31m11.6 MB/s\u001b[0m eta \u001b[36m0:00:00\u001b[0mm eta \u001b[36m0:00:01\u001b[0m0:01\u001b[0m:01\u001b[0m\n",
      "\u001b[?25hBuilding wheels for collected packages: pandas\n",
      "  Building wheel for pandas (pyproject.toml) ... \u001b[?25ldone\n",
      "\u001b[?25h  Created wheel for pandas: filename=pandas-1.5.3-cp312-cp312-linux_x86_64.whl size=11477855 sha256=153c0d06333cf1978b3e803964a99fab454ad77304db7c4767ddb1c6fa333073\n",
      "  Stored in directory: /home/bachngo/.cache/pip/wheels/fb/83/18/8e7307aa1185c5498c5490e4d9c8a1732d9f1056e86c3491c6\n",
      "Successfully built pandas\n",
      "Installing collected packages: duckdb, astor, pandas, faker, pandasai\n",
      "  Attempting uninstall: pandas\n",
      "    Found existing installation: pandas 2.2.2\n",
      "    Uninstalling pandas-2.2.2:\n",
      "      Successfully uninstalled pandas-2.2.2\n",
      "\u001b[31mERROR: pip's dependency resolver does not currently take into account all the packages that are installed. This behaviour is the source of the following dependency conflicts.\n",
      "llama-index-llms-gemini 0.1.7 requires google-generativeai<0.5.0,>=0.4.1, but you have google-generativeai 0.5.3 which is incompatible.\u001b[0m\u001b[31m\n",
      "\u001b[0mSuccessfully installed astor-0.8.1 duckdb-0.10.3 faker-19.13.0 pandas-1.5.3 pandasai-2.1.1\n"
     ]
    }
   ],
   "source": [
    "!pip install pandasai"
   ]
  },
  {
   "cell_type": "code",
   "execution_count": 12,
   "metadata": {},
   "outputs": [
    {
     "name": "stdout",
     "output_type": "stream",
     "text": [
      "zsh:1: no matches found: pandasai[extra-dependency-name]\n"
     ]
    }
   ],
   "source": [
    "!pip install seaborn"
   ]
  },
  {
   "cell_type": "code",
   "execution_count": 1,
   "metadata": {},
   "outputs": [],
   "source": [
    "from pandasai import SmartDataframe\n",
    "from pandasai.llm.local_llm import LocalLLM\n",
    "from pandasai.llm import OpenAI"
   ]
  },
  {
   "cell_type": "code",
   "execution_count": 2,
   "metadata": {},
   "outputs": [],
   "source": [
    "# llm = LocalLLM(\n",
    "#     api_base=\"https://api.groq.com/openai/v1\",\n",
    "#     model=\"llama3-8b-8192\"\n",
    "# )\n",
    "\n",
    "llm = OpenAI(\n",
    "    api_token=\"\",\n",
    ")"
   ]
  },
  {
   "cell_type": "code",
   "execution_count": 3,
   "metadata": {},
   "outputs": [],
   "source": [
    "import pandas as pd\n",
    "from pandasai import Agent\n",
    "\n",
    "df = pd.read_csv(\"./data/train.csv\")\n",
    "agent = Agent(df, config={\"llm\": llm})"
   ]
  },
  {
   "cell_type": "code",
   "execution_count": 7,
   "metadata": {},
   "outputs": [
    {
     "name": "stdout",
     "output_type": "stream",
     "text": [
      "The feature with the highest correlation with 'Microwave' is 'Gymnasium'.\n"
     ]
    },
    {
     "name": "stderr",
     "output_type": "stream",
     "text": [
      "<string>:3: FutureWarning: The default value of numeric_only in DataFrame.corr is deprecated. In a future version, it will default to False. Select only valid columns or specify the value of numeric_only to silence this warning.\n"
     ]
    }
   ],
   "source": [
    "print(agent.chat(\"What is the feature with highest correlation in this data\"))"
   ]
  },
  {
   "cell_type": "code",
   "execution_count": null,
   "metadata": {},
   "outputs": [],
   "source": []
  },
  {
   "cell_type": "code",
   "execution_count": null,
   "metadata": {},
   "outputs": [],
   "source": []
  }
 ],
 "metadata": {
  "kernelspec": {
   "display_name": "gemm_assistant",
   "language": "python",
   "name": "python3"
  },
  "language_info": {
   "codemirror_mode": {
    "name": "ipython",
    "version": 3
   },
   "file_extension": ".py",
   "mimetype": "text/x-python",
   "name": "python",
   "nbconvert_exporter": "python",
   "pygments_lexer": "ipython3",
   "version": "3.1.-1"
  }
 },
 "nbformat": 4,
 "nbformat_minor": 2
}
