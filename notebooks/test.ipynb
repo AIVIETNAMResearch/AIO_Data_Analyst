{
 "cells": [
  {
   "cell_type": "code",
   "execution_count": 1,
   "metadata": {},
   "outputs": [
    {
     "name": "stdout",
     "output_type": "stream",
     "text": [
      "Collecting pandasai\n",
      "  Downloading pandasai-2.1.1-py3-none-any.whl.metadata (9.7 kB)\n",
      "Collecting astor<0.9.0,>=0.8.1 (from pandasai)\n",
      "  Downloading astor-0.8.1-py2.py3-none-any.whl.metadata (4.2 kB)\n",
      "Collecting duckdb<1 (from pandasai)\n",
      "  Downloading duckdb-0.10.3-cp312-cp312-manylinux_2_17_x86_64.manylinux2014_x86_64.whl.metadata (763 bytes)\n",
      "Collecting faker<20.0.0,>=19.12.0 (from pandasai)\n",
      "  Downloading Faker-19.13.0-py3-none-any.whl.metadata (15 kB)\n",
      "Requirement already satisfied: jinja2<4.0.0,>=3.1.3 in /home/bachngo/anaconda3/envs/gemm_assistant/lib/python3.12/site-packages (from pandasai) (3.1.3)\n",
      "Requirement already satisfied: matplotlib<4.0.0,>=3.7.1 in /home/bachngo/anaconda3/envs/gemm_assistant/lib/python3.12/site-packages (from pandasai) (3.8.4)\n",
      "Requirement already satisfied: openai<2 in /home/bachngo/anaconda3/envs/gemm_assistant/lib/python3.12/site-packages (from pandasai) (1.30.1)\n",
      "Collecting pandas==1.5.3 (from pandasai)\n",
      "  Downloading pandas-1.5.3.tar.gz (5.2 MB)\n",
      "\u001b[2K     \u001b[38;2;114;156;31m━━━━━━━━━━━━━━━━━━━━━━━━━━━━━━━━━━━━━━━━\u001b[0m \u001b[32m5.2/5.2 MB\u001b[0m \u001b[31m14.4 MB/s\u001b[0m eta \u001b[36m0:00:00\u001b[0mm eta \u001b[36m0:00:01\u001b[0m[36m0:00:01\u001b[0m\n",
      "\u001b[?25h  Installing build dependencies ... \u001b[?25ldone\n",
      "\u001b[?25h  Getting requirements to build wheel ... \u001b[?25ldone\n",
      "\u001b[?25h  Preparing metadata (pyproject.toml) ... \u001b[?25ldone\n",
      "\u001b[?25hRequirement already satisfied: pillow<11.0.0,>=10.1.0 in /home/bachngo/anaconda3/envs/gemm_assistant/lib/python3.12/site-packages (from pandasai) (10.3.0)\n",
      "Requirement already satisfied: pydantic<3,>=1 in /home/bachngo/anaconda3/envs/gemm_assistant/lib/python3.12/site-packages (from pandasai) (2.7.0)\n",
      "Requirement already satisfied: python-dotenv<2.0.0,>=1.0.0 in /home/bachngo/anaconda3/envs/gemm_assistant/lib/python3.12/site-packages (from pandasai) (1.0.1)\n",
      "Requirement already satisfied: requests<3.0.0,>=2.31.0 in /home/bachngo/anaconda3/envs/gemm_assistant/lib/python3.12/site-packages (from pandasai) (2.31.0)\n",
      "Requirement already satisfied: scipy<2.0.0,>=1.9.0 in /home/bachngo/anaconda3/envs/gemm_assistant/lib/python3.12/site-packages (from pandasai) (1.13.0)\n",
      "Requirement already satisfied: sqlalchemy<3,>=1.4 in /home/bachngo/anaconda3/envs/gemm_assistant/lib/python3.12/site-packages (from pandasai) (2.0.29)\n",
      "Requirement already satisfied: python-dateutil>=2.8.1 in /home/bachngo/anaconda3/envs/gemm_assistant/lib/python3.12/site-packages (from pandas==1.5.3->pandasai) (2.9.0.post0)\n",
      "Requirement already satisfied: pytz>=2020.1 in /home/bachngo/anaconda3/envs/gemm_assistant/lib/python3.12/site-packages (from pandas==1.5.3->pandasai) (2024.1)\n",
      "Requirement already satisfied: numpy>=1.21.0 in /home/bachngo/anaconda3/envs/gemm_assistant/lib/python3.12/site-packages (from pandas==1.5.3->pandasai) (1.26.4)\n",
      "Requirement already satisfied: MarkupSafe>=2.0 in /home/bachngo/anaconda3/envs/gemm_assistant/lib/python3.12/site-packages (from jinja2<4.0.0,>=3.1.3->pandasai) (2.1.5)\n",
      "Requirement already satisfied: contourpy>=1.0.1 in /home/bachngo/anaconda3/envs/gemm_assistant/lib/python3.12/site-packages (from matplotlib<4.0.0,>=3.7.1->pandasai) (1.2.1)\n",
      "Requirement already satisfied: cycler>=0.10 in /home/bachngo/anaconda3/envs/gemm_assistant/lib/python3.12/site-packages (from matplotlib<4.0.0,>=3.7.1->pandasai) (0.12.1)\n",
      "Requirement already satisfied: fonttools>=4.22.0 in /home/bachngo/anaconda3/envs/gemm_assistant/lib/python3.12/site-packages (from matplotlib<4.0.0,>=3.7.1->pandasai) (4.51.0)\n",
      "Requirement already satisfied: kiwisolver>=1.3.1 in /home/bachngo/anaconda3/envs/gemm_assistant/lib/python3.12/site-packages (from matplotlib<4.0.0,>=3.7.1->pandasai) (1.4.5)\n",
      "Requirement already satisfied: packaging>=20.0 in /home/bachngo/anaconda3/envs/gemm_assistant/lib/python3.12/site-packages (from matplotlib<4.0.0,>=3.7.1->pandasai) (23.2)\n",
      "Requirement already satisfied: pyparsing>=2.3.1 in /home/bachngo/anaconda3/envs/gemm_assistant/lib/python3.12/site-packages (from matplotlib<4.0.0,>=3.7.1->pandasai) (3.1.2)\n",
      "Requirement already satisfied: anyio<5,>=3.5.0 in /home/bachngo/anaconda3/envs/gemm_assistant/lib/python3.12/site-packages (from openai<2->pandasai) (3.7.1)\n",
      "Requirement already satisfied: distro<2,>=1.7.0 in /home/bachngo/anaconda3/envs/gemm_assistant/lib/python3.12/site-packages (from openai<2->pandasai) (1.9.0)\n",
      "Requirement already satisfied: httpx<1,>=0.23.0 in /home/bachngo/anaconda3/envs/gemm_assistant/lib/python3.12/site-packages (from openai<2->pandasai) (0.27.0)\n",
      "Requirement already satisfied: sniffio in /home/bachngo/anaconda3/envs/gemm_assistant/lib/python3.12/site-packages (from openai<2->pandasai) (1.3.1)\n",
      "Requirement already satisfied: tqdm>4 in /home/bachngo/anaconda3/envs/gemm_assistant/lib/python3.12/site-packages (from openai<2->pandasai) (4.66.2)\n",
      "Requirement already satisfied: typing-extensions<5,>=4.7 in /home/bachngo/anaconda3/envs/gemm_assistant/lib/python3.12/site-packages (from openai<2->pandasai) (4.11.0)\n",
      "Requirement already satisfied: annotated-types>=0.4.0 in /home/bachngo/anaconda3/envs/gemm_assistant/lib/python3.12/site-packages (from pydantic<3,>=1->pandasai) (0.6.0)\n",
      "Requirement already satisfied: pydantic-core==2.18.1 in /home/bachngo/anaconda3/envs/gemm_assistant/lib/python3.12/site-packages (from pydantic<3,>=1->pandasai) (2.18.1)\n",
      "Requirement already satisfied: charset-normalizer<4,>=2 in /home/bachngo/anaconda3/envs/gemm_assistant/lib/python3.12/site-packages (from requests<3.0.0,>=2.31.0->pandasai) (3.3.2)\n",
      "Requirement already satisfied: idna<4,>=2.5 in /home/bachngo/anaconda3/envs/gemm_assistant/lib/python3.12/site-packages (from requests<3.0.0,>=2.31.0->pandasai) (3.7)\n",
      "Requirement already satisfied: urllib3<3,>=1.21.1 in /home/bachngo/anaconda3/envs/gemm_assistant/lib/python3.12/site-packages (from requests<3.0.0,>=2.31.0->pandasai) (2.2.1)\n",
      "Requirement already satisfied: certifi>=2017.4.17 in /home/bachngo/anaconda3/envs/gemm_assistant/lib/python3.12/site-packages (from requests<3.0.0,>=2.31.0->pandasai) (2024.2.2)\n",
      "Requirement already satisfied: greenlet!=0.4.17 in /home/bachngo/anaconda3/envs/gemm_assistant/lib/python3.12/site-packages (from sqlalchemy<3,>=1.4->pandasai) (3.0.3)\n",
      "Requirement already satisfied: httpcore==1.* in /home/bachngo/anaconda3/envs/gemm_assistant/lib/python3.12/site-packages (from httpx<1,>=0.23.0->openai<2->pandasai) (1.0.5)\n",
      "Requirement already satisfied: h11<0.15,>=0.13 in /home/bachngo/anaconda3/envs/gemm_assistant/lib/python3.12/site-packages (from httpcore==1.*->httpx<1,>=0.23.0->openai<2->pandasai) (0.14.0)\n",
      "Requirement already satisfied: six>=1.5 in /home/bachngo/anaconda3/envs/gemm_assistant/lib/python3.12/site-packages (from python-dateutil>=2.8.1->pandas==1.5.3->pandasai) (1.16.0)\n",
      "Downloading pandasai-2.1.1-py3-none-any.whl (163 kB)\n",
      "\u001b[2K   \u001b[38;2;114;156;31m━━━━━━━━━━━━━━━━━━━━━━━━━━━━━━━━━━━━━━━━\u001b[0m \u001b[32m163.9/163.9 kB\u001b[0m \u001b[31m35.3 MB/s\u001b[0m eta \u001b[36m0:00:00\u001b[0m\n",
      "\u001b[?25hDownloading astor-0.8.1-py2.py3-none-any.whl (27 kB)\n",
      "Downloading duckdb-0.10.3-cp312-cp312-manylinux_2_17_x86_64.manylinux2014_x86_64.whl (18.5 MB)\n",
      "\u001b[2K   \u001b[38;2;114;156;31m━━━━━━━━━━━━━━━━━━━━━━━━━━━━━━━━━━━━━━━━\u001b[0m \u001b[32m18.5/18.5 MB\u001b[0m \u001b[31m13.5 MB/s\u001b[0m eta \u001b[36m0:00:00\u001b[0mm eta \u001b[36m0:00:01\u001b[0m[36m0:00:01\u001b[0m\n",
      "\u001b[?25hDownloading Faker-19.13.0-py3-none-any.whl (1.7 MB)\n",
      "\u001b[2K   \u001b[38;2;114;156;31m━━━━━━━━━━━━━━━━━━━━━━━━━━━━━━━━━━━━━━━━\u001b[0m \u001b[32m1.7/1.7 MB\u001b[0m \u001b[31m11.6 MB/s\u001b[0m eta \u001b[36m0:00:00\u001b[0mm eta \u001b[36m0:00:01\u001b[0m0:01\u001b[0m:01\u001b[0m\n",
      "\u001b[?25hBuilding wheels for collected packages: pandas\n",
      "  Building wheel for pandas (pyproject.toml) ... \u001b[?25ldone\n",
      "\u001b[?25h  Created wheel for pandas: filename=pandas-1.5.3-cp312-cp312-linux_x86_64.whl size=11477855 sha256=153c0d06333cf1978b3e803964a99fab454ad77304db7c4767ddb1c6fa333073\n",
      "  Stored in directory: /home/bachngo/.cache/pip/wheels/fb/83/18/8e7307aa1185c5498c5490e4d9c8a1732d9f1056e86c3491c6\n",
      "Successfully built pandas\n",
      "Installing collected packages: duckdb, astor, pandas, faker, pandasai\n",
      "  Attempting uninstall: pandas\n",
      "    Found existing installation: pandas 2.2.2\n",
      "    Uninstalling pandas-2.2.2:\n",
      "      Successfully uninstalled pandas-2.2.2\n",
      "\u001b[31mERROR: pip's dependency resolver does not currently take into account all the packages that are installed. This behaviour is the source of the following dependency conflicts.\n",
      "llama-index-llms-gemini 0.1.7 requires google-generativeai<0.5.0,>=0.4.1, but you have google-generativeai 0.5.3 which is incompatible.\u001b[0m\u001b[31m\n",
      "\u001b[0mSuccessfully installed astor-0.8.1 duckdb-0.10.3 faker-19.13.0 pandas-1.5.3 pandasai-2.1.1\n"
     ]
    }
   ],
   "source": [
    "!pip install pandasai"
   ]
  },
  {
   "cell_type": "code",
   "execution_count": 12,
   "metadata": {},
   "outputs": [
    {
     "name": "stdout",
     "output_type": "stream",
     "text": [
      "zsh:1: no matches found: pandasai[extra-dependency-name]\n"
     ]
    }
   ],
   "source": [
    "!pip install seaborn"
   ]
  },
  {
   "cell_type": "code",
   "execution_count": 1,
   "metadata": {},
   "outputs": [],
   "source": [
    "from pandasai import SmartDataframe\n",
    "from pandasai.llm.local_llm import LocalLLM\n",
    "from pandasai.llm import OpenAI"
   ]
  },
  {
   "cell_type": "code",
   "execution_count": 2,
   "metadata": {},
   "outputs": [],
   "source": [
    "# llm = LocalLLM(\n",
    "#     api_base=\"https://api.groq.com/openai/v1\",\n",
    "#     model=\"llama3-8b-8192\"\n",
    "# )\n",
    "\n",
    "llm = OpenAI(\n",
    "    api_token=\"\",\n",
    ")"
   ]
  },
  {
   "cell_type": "code",
   "execution_count": 3,
   "metadata": {},
   "outputs": [],
   "source": [
    "import pandas as pd\n",
    "from pandasai import Agent\n",
    "\n",
    "df = pd.read_csv(\"./data/train.csv\")\n",
    "agent = Agent(df, config={\"llm\": llm})"
   ]
  },
  {
   "cell_type": "code",
   "execution_count": 7,
   "metadata": {},
   "outputs": [
    {
     "name": "stdout",
     "output_type": "stream",
     "text": [
      "The feature with the highest correlation with 'Microwave' is 'Gymnasium'.\n"
     ]
    },
    {
     "name": "stderr",
     "output_type": "stream",
     "text": [
      "<string>:3: FutureWarning: The default value of numeric_only in DataFrame.corr is deprecated. In a future version, it will default to False. Select only valid columns or specify the value of numeric_only to silence this warning.\n"
     ]
    }
   ],
   "source": [
    "print(agent.chat(\"What is the feature with highest correlation in this data\"))"
   ]
  },
  {
   "cell_type": "code",
   "execution_count": null,
   "metadata": {},
   "outputs": [],
   "source": []
  },
  {
   "cell_type": "markdown",
   "metadata": {},
   "source": [
    "# Llama_index approach"
   ]
  },
  {
   "cell_type": "markdown",
   "metadata": {},
   "source": []
  },
  {
   "cell_type": "code",
   "execution_count": 17,
   "metadata": {},
   "outputs": [],
   "source": [
    "import pandas as pd\n",
    "from llama_index.experimental.query_engine import PandasQueryEngine\n",
    "from llama_index.llms.groq import Groq\n",
    "\n",
    "\n",
    "llm = Groq(model=\"llama3-70b-8192\")\n",
    "\n",
    "data_df = pd.read_csv(\"../data/train.csv\")\n",
    "query_engine = PandasQueryEngine(df=data_df, verbose=True, llm=llm)"
   ]
  },
  {
   "cell_type": "code",
   "execution_count": 36,
   "metadata": {},
   "outputs": [],
   "source": [
    "# response = query_engine.query(\"Draw the data correlation matrix\")"
   ]
  },
  {
   "cell_type": "code",
   "execution_count": 30,
   "metadata": {},
   "outputs": [
    {
     "name": "stdout",
     "output_type": "stream",
     "text": [
      "There was an error running the output as Python code. Error message: could not convert string to float: 'Hooghly Chinsurah'\n"
     ]
    }
   ],
   "source": [
    "print(response.response)"
   ]
  },
  {
   "cell_type": "code",
   "execution_count": 31,
   "metadata": {},
   "outputs": [],
   "source": [
    "from llama_index.core.tools import QueryEngineTool, ToolMetadata\n",
    "\n",
    "tools = [\n",
    "    QueryEngineTool(\n",
    "        query_engine=query_engine,\n",
    "        metadata=ToolMetadata(\n",
    "            name=\"pandas_engine\",\n",
    "            description=(\n",
    "                \"Provides pandas code and execution on the data frame based on the query. \"\n",
    "            ),\n",
    "        ),)\n",
    "]"
   ]
  },
  {
   "cell_type": "code",
   "execution_count": 35,
   "metadata": {},
   "outputs": [],
   "source": [
    "# # setup pack arguments\n",
    "# from llama_index.core.agent import AgentRunner\n",
    "# from llama_index.agent.llm_compiler.step import LLMCompilerAgentWorker\n",
    "\n",
    "# agent_worker = LLMCompilerAgentWorker.from_tools(\n",
    "#     tools, llm=llm, verbose=True\n",
    "# )\n",
    "# agent = AgentRunner(agent_worker)\n",
    "\n",
    "# # start using the agent\n",
    "# response = agent.chat(\"Perform analytics on the data frame\")"
   ]
  },
  {
   "cell_type": "code",
   "execution_count": 48,
   "metadata": {},
   "outputs": [],
   "source": [
    "from typing import Any, Dict, Optional, List\n",
    "import re\n",
    "\n",
    "def parse_code_markdown(text: str, only_last: bool) -> List[str]:\n",
    "    # Regular expression pattern to match code within triple-backticks with an optional programming language\n",
    "    pattern = r\"```[a-zA-Z]*\\n(.*?)```\"\n",
    "\n",
    "    # Find all matches of the pattern in the text\n",
    "    matches = re.findall(pattern, text, re.DOTALL)\n",
    "\n",
    "    # Return the last matched group if requested\n",
    "    code = matches[-1] if matches and only_last else matches\n",
    "\n",
    "    # If empty, we optimistically assume the output is the code\n",
    "    if not code:\n",
    "        # Strip the text to handle cases where the code may start or end with triple backticks or quotes\n",
    "        candidate = text.strip()\n",
    "\n",
    "        # Handle cases where the code is surrounded by regular quotes\n",
    "        if candidate.startswith('\"') and candidate.endswith('\"'):\n",
    "            candidate = candidate[1:-1]\n",
    "\n",
    "        if candidate.startswith(\"'\") and candidate.endswith(\"'\"):\n",
    "            candidate = candidate[1:-1]\n",
    "\n",
    "        if candidate.startswith(\"`\") and candidate.endswith(\"`\"):\n",
    "            candidate = candidate[1:-1]\n",
    "\n",
    "        # Handle triple backticks at the start\n",
    "        if candidate.startswith(\"```\"):\n",
    "            candidate = re.sub(r\"^```[a-zA-Z]*\\n?\", \"\", candidate)\n",
    "\n",
    "        # Handle triple backticks at the end\n",
    "        if candidate.endswith(\"```\"):\n",
    "            candidate = candidate[:-3]\n",
    "\n",
    "        code = [candidate.strip()]\n",
    "\n",
    "    return code"
   ]
  },
  {
   "cell_type": "code",
   "execution_count": null,
   "metadata": {},
   "outputs": [],
   "source": []
  },
  {
   "cell_type": "code",
   "execution_count": 53,
   "metadata": {},
   "outputs": [
    {
     "data": {
      "text/plain": [
       "\"df.describe(include='all').to_string() + '\\n' + df.info() + '\\n' + 'Correlation Matrix:\\n' + df.corr().to_string() + '\\n' + 'Missing Values:\\n' + df.isnull().sum().to_string() + '\\n' + 'Value Counts:\\n' + df.apply(pd.value_counts).to_string()\\n\""
      ]
     },
     "execution_count": 53,
     "metadata": {},
     "output_type": "execute_result"
    }
   ],
   "source": [
    "# Example usage\n",
    "text = \"\"\"```python\n",
    "df.describe(include='all').to_string() + '\\n' + df.info() + '\\n' + 'Correlation Matrix:\\n' + df.corr().to_string() + '\\n' + 'Missing Values:\\n' + df.isnull().sum().to_string() + '\\n' + 'Value Counts:\\n' + df.apply(pd.value_counts).to_string()\n",
    "```\"\"\"\n",
    "\n",
    "parse_code_markdown(text, only_last=True)"
   ]
  },
  {
   "cell_type": "code",
   "execution_count": 50,
   "metadata": {},
   "outputs": [
    {
     "data": {
      "text/plain": [
       "\"      id  Area           Location  No. of Bedrooms  Resale  MaintenanceStaff  Gymnasium  SwimmingPool  LandscapedGardens  JoggingTrack  RainWaterHarvesting  IndoorGames  ShoppingMall  Intercom  SportsFacility  ATM  ClubHouse  School  24X7Security  PowerBackup  CarParking  StaffQuarter  Cafeteria  MultipurposeRoom  Hospital  WashingMachine  Gasconnection  AC  Wifi  Children'splayarea  LiftAvailable  BED  VaastuCompliant  Microwave  GolfCourse  TV  DiningTable  Sofa  Wardrobe  Refrigerator     Price\\n0  26813   964  Hooghly Chinsurah                3       0                 9          9             9                  9             9                    9            9             9         9               9    9          9       9             9            9           9             9          9                 9         9               9              9   9     9                   9              9    9                9          9           9   9            9     9         9             9   7500000\\n1  10365  1075         Virar West                2       1                 1          1             0                  0             0                    0            0             0         0               0    0          0       0             1            0           1             0          0                 0         0               0              0   0     0                   0              1    1                0          0           0   0            0     0         0             0   6200000\\n2  17863  2092          Manikonda                3       0                 1          1             1                  1             0                    1            1             0         0               0    0          0       0             1            1           1             0          0                 1         0               0              0   0     0                   1              1    0                1          0           0   0            0     0         0             0  10400000\\n3  24337  1174        Devanahalli                2       1                 9          9             9                  9             9                    9            9             9         9               9    9          9       9             9            9           9             9          9                 9         9               9              9   9     9                   9              9    9                9          9           9   9            9     9         9             9  18600000\\n4  12590  1380           Kharghar                2       1                 9          9             9                  9             9                    9            9             9         9               9    9          9       9             9            9           9             9          9                 9         9               9              9   9     9                   9              9    9                9          9           9   9            9     9         9             9   9500000\""
      ]
     },
     "execution_count": 50,
     "metadata": {},
     "output_type": "execute_result"
    }
   ],
   "source": [
    "df = data_df\n",
    "df.head().to_string()\n"
   ]
  },
  {
   "cell_type": "code",
   "execution_count": 54,
   "metadata": {},
   "outputs": [
    {
     "name": "stdout",
     "output_type": "stream",
     "text": [
      "No result variable defined\n",
      "<img src=\"data:image/png;base64,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\" />\n"
     ]
    }
   ],
   "source": [
    "import matplotlib.pyplot as plt\n",
    "import numpy as np\n",
    "import io\n",
    "import base64\n",
    "from IPDisplay import display\n",
    "\n",
    "class SafeCodeExecutor:\n",
    "    def __init__(self):\n",
    "        self.context = {}\n",
    "\n",
    "    def execute_code(self, code: str) -> str:\n",
    "        try:\n",
    "            exec(code, {\"plt\": plt, \"np\": np}, self.context)\n",
    "            result = self.context.get('result', 'No result variable defined')\n",
    "            return str(result)\n",
    "        except Exception as e:\n",
    "            return f\"Error: {str(e)}\"\n",
    "\n",
    "    def generate_plot(self) -> str:\n",
    "        try:\n",
    "            # Ensure there's a plot to display\n",
    "            if not plt.get_fignums():\n",
    "                return \"No plot generated\"\n",
    "            \n",
    "            # Save the plot to a buffer\n",
    "            buffer = io.BytesIO()\n",
    "            plt.savefig(buffer, format='png')\n",
    "            buffer.seek(0)\n",
    "            \n",
    "            # Encode the plot as a base64 string\n",
    "            plot_base64 = base64.b64encode(buffer.read()).decode('utf-8')\n",
    "            buffer.close()\n",
    "            \n",
    "            # Clear the plot\n",
    "            plt.close()\n",
    "            \n",
    "            return plot_base64\n",
    "        except Exception as e:\n",
    "            return f\"Error generating plot: {str(e)}\"\n",
    "\n",
    "# Example usage\n",
    "executor = SafeCodeExecutor()\n",
    "\n",
    "# Sample user-provided code to generate a plot\n",
    "code_string = \"\"\"\n",
    "x = np.linspace(0, 10, 100)\n",
    "y = np.sin(x)\n",
    "plt.plot(x, y)\n",
    "plt.title('Sine Wave')\n",
    "\"\"\"\n",
    "\n",
    "# Execute the user-provided code\n",
    "result = executor.execute_code(code_string)\n",
    "print(result)  # Should output 'No result variable defined'\n",
    "\n",
    "# Generate and retrieve the plot as a base64 string\n",
    "plot_base64 = executor.generate_plot()\n",
    "if plot_base64.startswith(\"Error\"):\n",
    "    print(plot_base64)\n",
    "else:\n",
    "    # Display the plot in an HTML img tag\n",
    "    html_img_tag = f'<img src=\"data:image/png;base64,{plot_base64}\" />'\n",
    "    print(html_img_tag)  # You can render this in a web page or display it in a Jupyter notebook\n"
   ]
  },
  {
   "cell_type": "code",
   "execution_count": null,
   "metadata": {},
   "outputs": [],
   "source": []
  }
 ],
 "metadata": {
  "kernelspec": {
   "display_name": "gemm_assistant",
   "language": "python",
   "name": "python3"
  },
  "language_info": {
   "codemirror_mode": {
    "name": "ipython",
    "version": 3
   },
   "file_extension": ".py",
   "mimetype": "text/x-python",
   "name": "python",
   "nbconvert_exporter": "python",
   "pygments_lexer": "ipython3",
   "version": "3.12.3"
  }
 },
 "nbformat": 4,
 "nbformat_minor": 2
}
